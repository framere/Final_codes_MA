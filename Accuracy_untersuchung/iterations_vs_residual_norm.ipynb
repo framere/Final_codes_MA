{
 "cells": [
  {
   "cell_type": "code",
   "execution_count": 1,
   "id": "22dad469",
   "metadata": {},
   "outputs": [],
   "source": [
    "import numpy as np\n",
    "import matplotlib.pyplot as plt\n",
    "import seaborn as sns"
   ]
  },
  {
   "cell_type": "markdown",
   "id": "33069555",
   "metadata": {},
   "source": [
    "# Small Blocks\n"
   ]
  },
  {
   "cell_type": "code",
   "execution_count": null,
   "id": "e9ceb515",
   "metadata": {},
   "outputs": [],
   "source": [
    "N_aux = np.array([6, 8, 10])*62\n",
    "\n",
    "iter_60 = np.array([11, 8, 8])\n",
    "iter_300 = np.array([11, 8, 8])"
   ]
  },
  {
   "cell_type": "markdown",
   "id": "cd02cb41",
   "metadata": {},
   "source": [
    "# Single deflation"
   ]
  },
  {
   "cell_type": "code",
   "execution_count": null,
   "id": "e0b7073e",
   "metadata": {},
   "outputs": [],
   "source": [
    "thresh = np.array([1e-3, 5e-3, 1e-2, 5e-2])\n",
    "\n",
    "iter_60 = np.array([22, 30, 26, 30])\n",
    "iter_120 = np.array([29, 26, 57, 57])\n",
    "iter_180 = np.array([0,0,0, 46])\n",
    "# no convergence\n",
    "\n",
    "\n",
    "\n",
    "\n",
    "precision_60 = np.array([1e-7, 1e-9, 1e-5, 1e-7])\n",
    "precision_120 = np.array([1e-6, 1e-5, 1e-4, 1e-2])\n"
   ]
  }
 ],
 "metadata": {
  "kernelspec": {
   "display_name": "base",
   "language": "python",
   "name": "python3"
  },
  "language_info": {
   "codemirror_mode": {
    "name": "ipython",
    "version": 3
   },
   "file_extension": ".py",
   "mimetype": "text/x-python",
   "name": "python",
   "nbconvert_exporter": "python",
   "pygments_lexer": "ipython3",
   "version": "3.11.7"
  }
 },
 "nbformat": 4,
 "nbformat_minor": 5
}
