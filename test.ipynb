{
 "cells": [
  {
   "cell_type": "code",
   "execution_count": 5,
   "id": "7dad244c",
   "metadata": {},
   "outputs": [
    {
     "name": "stdout",
     "output_type": "stream",
     "text": [
      "Loaded Σexact (first 5 eigenvalues): [-8.32443916332021, -8.32426136057449, -8.32426097116007, -8.324001142365614, -8.324000961077592]\n"
     ]
    }
   ],
   "source": [
    "using JLD2\n",
    "\n",
    "function load_eigenresults(output_file)\n",
    "    # Unpack directly into variables\n",
    "    data = load(output_file)  # Returns a Dict-like object\n",
    "    Σexact = data[\"Σexact\"]  # Access by key\n",
    "    Uexact = data[\"Uexact\"]\n",
    "    return Σexact, Uexact\n",
    "end\n",
    "\n",
    "# Usage\n",
    "Σexact, Uexact = load_eigenresults(\"eigen_results_hBN.jld2\")\n",
    "println(\"Loaded Σexact (first 5 eigenvalues): \", Σexact[1:5])"
   ]
  },
  {
   "cell_type": "code",
   "execution_count": null,
   "id": "e24c41d5",
   "metadata": {},
   "outputs": [],
   "source": []
  }
 ],
 "metadata": {
  "kernelspec": {
   "display_name": "Julia 1.11.4",
   "language": "julia",
   "name": "julia-1.11"
  },
  "language_info": {
   "file_extension": ".jl",
   "mimetype": "application/julia",
   "name": "julia",
   "version": "1.11.4"
  }
 },
 "nbformat": 4,
 "nbformat_minor": 5
}
