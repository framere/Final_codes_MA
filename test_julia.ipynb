{
 "cells": [
  {
   "cell_type": "code",
   "execution_count": null,
   "id": "0bb514f0",
   "metadata": {},
   "outputs": [
    {
     "name": "stdout",
     "output_type": "stream",
     "text": [
      "Reading eigenvalues from Eigenvalues_folder/eigenres_H2_RNDbasis1.jld2\n",
      "Eigenvalue : -0.02884227021354573\n",
      "Reading eigenvalues from Eigenvalues_folder/eigenres_formaldehyde_RNDbasis1.jld2\n",
      "Eigenvalue : -0.005902029073540208\n",
      "Reading eigenvalues from Eigenvalues_folder/eigenres_uracil_RNDbasis1.jld2\n",
      "Eigenvalue : -0.004051281674225675\n"
     ]
    }
   ],
   "source": [
    "using LinearAlgebra\n",
    "using JLD2\n",
    "\n",
    "function read_eigenresults(molecule::String)\n",
    "    output_file = \"Eigenvalues_folder/eigenres_\" * molecule * \"_RNDbasis1.jld2\"\n",
    "    println(\"Reading eigenvalues from $output_file\")\n",
    "    data = jldopen(output_file, \"r\")\n",
    "    eigenvalues = data[\"eigenvalues\"]\n",
    "    close(data)\n",
    "    return sort(eigenvalues)\n",
    "end\n",
    "\n",
    "molecules = [\"H2\", \"formaldehyde\", \"uracil\"]\n",
    "N_occ = [1, 6, 21]\n",
    "for (i, molecule) in enumerate(molecules)\n",
    "    eigenvalues = read_eigenresults(molecule)\n",
    "    number = Int(100 * N_occ[i])\n",
    "    println(\"Eigenvalue : \", eigenvalues[number])\n",
    "end"
   ]
  },
  {
   "cell_type": "code",
   "execution_count": 16,
   "id": "97816092",
   "metadata": {},
   "outputs": [
    {
     "name": "stdout",
     "output_type": "stream",
     "text": [
      "list of stats: Converged after 8 iterations.\n",
      "number of iterations: 8\n",
      "list of stats: Converged after 4 iterations.\n",
      "number of iterations: 4\n",
      "status msg: Converged after 8 iterations.\n",
      "number of iterations: 8\n",
      "type of niter: Int64\n",
      "status msg: Converged after 4 iterations.\n",
      "number of iterations: 4\n",
      "type of niter: Int64\n"
     ]
    }
   ],
   "source": [
    "using Preconditioners\n",
    "using SparseArrays\n",
    "using IterativeSolvers\n",
    "using LinearAlgebra\n",
    "\n",
    "\n",
    "A = sprand(1000, 1000, 0.01)\n",
    "A = A + A' + 30I\n",
    "\n",
    "# Diagonal preconditioner\n",
    "pd = DiagonalPreconditioner(A)\n",
    "\n",
    "# Incomplete Cholesky preconditioner with cut-off level 2\n",
    "pc = CholeskyPreconditioner(A, 2)\n",
    "\n",
    "prec = [pd, pc]\n",
    "# Solve the system of equations\n",
    "b = A*ones(1000)\n",
    "for p in prec\n",
    "    x, ch = cg(A, b, Pl=p, log=true)\n",
    "    list = split(string(ch))\n",
    "    niter = list[3]\n",
    "    niter_int = parse(Int, niter)\n",
    "    println(\"list of stats: \", ch)\n",
    "    println(\"number of iterations: \", niter)\n",
    "end\n",
    "\n",
    "for p in prec\n",
    "    x, ch = cg(A, b, Pl=p, log=true)\n",
    "    msg = string(ch)\n",
    "    m = match(r\"(\\d+)\\s+iterations\", msg)\n",
    "    if m !== nothing\n",
    "        niter = parse(Int, m.captures[1])\n",
    "        println(\"status msg: \", msg)\n",
    "        println(\"number of iterations: \", niter)\n",
    "        println(\"type of niter: \", typeof(niter))\n",
    "    else\n",
    "        println(\"No iteration number found in message: \", msg)\n",
    "    end\n",
    "end"
   ]
  },
  {
   "cell_type": "code",
   "execution_count": 17,
   "id": "263e1ef9",
   "metadata": {},
   "outputs": [
    {
     "name": "stdout",
     "output_type": "stream",
     "text": [
      "Reading eigenvalues from test/Eigenvalues_folder/eigenresults_matrix_1.jld2\n",
      "Reading eigenvalues from test/Eigenvalues_folder/eigenresults_matrix_2.jld2\n",
      "Reading eigenvalues from test/Eigenvalues_folder/eigenresults_matrix_3.jld2\n",
      "Reading eigenvalues from test/Eigenvalues_folder/eigenresults_matrix_4.jld2\n",
      "Reading eigenvalues from test/Eigenvalues_folder/eigenresults_matrix_5.jld2\n",
      "Reading eigenvalues from test/Eigenvalues_folder/eigenresults_matrix_6.jld2\n",
      "First 20 eigenvalues of matrix 1: [-23.978377110229157, -19.657075544253022, -17.094688632871684, -15.293640659853793, -13.920120748628545, -12.820159581337812, -11.909846834111327, -11.138381170404044, -10.472712459877043, -9.890125928428331, -9.374396607931594, -8.91347271912299, -8.49825870747107, -8.121661770435725, -7.778045105263762, -7.462941986363561, -7.172618370252416, -6.904094822831796, -6.654794434123425, -6.42259819539194]\n",
      "First 20 eigenvalues of matrix 2: [-23.978455365167758, -19.657172709731952, -17.094807897576505, -15.293781111470947, -13.920285321209098, -12.820342628737409, -11.910045826720303, -11.138602208976899, -10.472966911497748, -9.8904079841977, -9.374685462823754, -8.913821894898483, -8.498642773285086, -8.122080934213049, -7.77853885172297, -7.463463417118227, -7.17321813230819, -6.904774298097257, -6.655567971502983, -6.423471213408534]\n",
      "First 20 eigenvalues of matrix 3: [-25.1500986945843, -23.929747218322362, -19.651148224978552, -17.093122362161406, -15.293990470692163, -13.921845067077296, -12.823064450120086, -11.913712774962526, -11.14304928624946, -10.478268308837276, -9.896392299314579, -9.381460510014616, -8.921097837960106, -8.506681641101855, -8.130652843864233, -7.787720195219586, -7.473028058170837, -7.183597973986232, -6.915589545442984, -6.666777903773204]\n",
      "First 20 eigenvalues of matrix 4: [-50.02945596458634, -23.982183549302107, -19.663486716292226, -17.103017406114763, -15.303521907001583, -13.931635301283038, -12.832904858585605, -11.923882176783003, -11.153694925730516, -10.489325591055538, -9.907994149571685, -9.39343952758839, -8.93348169540891, -8.519581008241785, -8.144013796086298, -7.801714371986031, -7.487794311324087, -7.198692280429992, -6.93144005572856, -6.683303876000866]\n",
      "First 20 eigenvalues of matrix 5: [-250.08453033371632, -24.388999196573067, -20.15868343743333, -17.67227440827728, -15.953012679667452, -14.646047943797377, -13.608075527145349, -12.760504960136142, -12.06750111483285, -11.443085687683713, -10.921615552292298, -10.473156841916673, -10.080713204057773, -9.717031541425264, -9.387964974975304, -9.089728863758488, -8.842129647024752, -8.63488482198182, -8.391138821954964, -8.180621927172961]\n",
      "First 20 eigenvalues of matrix 6: [-500.1020535187053, -24.82667188220076, -20.69391311461069, -18.294058131221984, -16.60890669497975, -15.396991557395765, -14.418937015938539, -13.64446077911758, -12.99361170872082, -12.433980462669357, -11.972897226147634, -11.577974202320757, -11.199290583346293, -10.889349031852014, -10.661907148062348, -10.410588167122167, -10.235892578875724, -10.070078190834781, -9.956401852496896, -9.7399485729999]\n"
     ]
    }
   ],
   "source": [
    "using LinearMaps, IterativeSolvers, LinearAlgebra, JLD2\n",
    "\n",
    "function read_eigenresults(number::Int)\n",
    "    output_file = \"test/Eigenvalues_folder/eigenresults_matrix_$(number).jld2\"\n",
    "    println(\"Reading eigenvalues from $output_file\")\n",
    "    data = jldopen(output_file, \"r\")\n",
    "    eigenvalues = -data[\"Σexact\"]\n",
    "    close(data)\n",
    "    return sort(eigenvalues)\n",
    "end\n",
    "\n",
    "eigenvalues_1 = read_eigenresults(1)\n",
    "eigenvalues_2 = read_eigenresults(2)\n",
    "eigenvalues_3 = read_eigenresults(3)\n",
    "eigenvalues_4 = read_eigenresults(4)\n",
    "eigenvalues_5 = read_eigenresults(5)\n",
    "eigenvalues_6 = read_eigenresults(6)\n",
    "\n",
    "# read first 20 eigenvalues\n",
    "for i in 1:6\n",
    "    println(\"First 20 eigenvalues of matrix $i: \", eval(Symbol(\"eigenvalues_$i\"))[1:20])\n",
    "end\n"
   ]
  },
  {
   "cell_type": "code",
   "execution_count": 19,
   "id": "91e60827",
   "metadata": {},
   "outputs": [
    {
     "name": "stdout",
     "output_type": "stream",
     "text": [
      "Vector 1: MINRES iterations = 11\n",
      "Vector 2: MINRES iterations = 12\n",
      "Solution matrix S =\n",
      "[0.2836242191098717 -2.5958521157288525; 0.815490641179229 -1.7245500887807232; -0.28667539095591654 4.299285196755714; -0.12215410441864016 -1.4269912786248766; 0.022316457120783784 4.382479879797486; -0.0011426254136755187 -1.9110920235754012; 0.03770992433794904 -4.828010799690627; 0.037056859950627505 0.3457681736492183; 0.09236811529558409 -7.030434091358403; -0.5514379124239536 1.810718601170695]\n"
     ]
    }
   ],
   "source": [
    "using LinearMaps, IterativeSolvers, LinearAlgebra\n",
    "\n",
    "# Dummy FLOP counters\n",
    "global NFLOPs = 0\n",
    "count_matmul_flops(args...) = nothing\n",
    "count_vec_add_flops(args...) = nothing\n",
    "count_vec_scaling_flops(args...) = nothing\n",
    "\n",
    "# Your correction_equations_minres function here\n",
    "function correction_equations_minres(A, U, lambdas, R; tol=1e-1, maxiter=100)\n",
    "    global NFLOPs\n",
    "    n, k = size(U)\n",
    "    S = zeros(eltype(A), n, k)\n",
    "\n",
    "    for j in 1:k\n",
    "        λ, r = lambdas[j], R[:, j]\n",
    "\n",
    "        M_apply = function(x)\n",
    "            x_perp = x - (U * (U' * x)); \n",
    "            tmp = (A * x_perp) - λ * x_perp; \n",
    "            res = tmp - (U * (U' * tmp)); \n",
    "            return res\n",
    "        end\n",
    "\n",
    "        M_op = LinearMap{eltype(A)}(M_apply, n, n; ishermitian=true)\n",
    "\n",
    "        rhs = r - (U * (U' * r)); \n",
    "        rhs = -rhs\n",
    "\n",
    "        # Call MINRES with logging\n",
    "        s_j, history = minres(M_op, rhs; reltol=tol, maxiter=maxiter, log=true)\n",
    "\n",
    "        println(\"Vector $j: MINRES iterations = \", history.iters)\n",
    "\n",
    "        s_j = s_j - (U * (U' * s_j)); \n",
    "        S[:, j] = s_j\n",
    "    end\n",
    "    return S\n",
    "end\n",
    "\n",
    "# === Example Problem ===\n",
    "n = 10\n",
    "A = Symmetric(randn(n, n))  # symmetric matrix\n",
    "U = randn(n, 2)             # trial subspace\n",
    "lambdas = [1.0, 2.0]        # fake Ritz values\n",
    "R = randn(n, 2)             # fake residuals\n",
    "\n",
    "S = correction_equations_minres(A, U, lambdas, R; tol=1e-6, maxiter=50)\n",
    "println(\"Solution matrix S =\")\n",
    "println(S)\n"
   ]
  },
  {
   "cell_type": "code",
   "execution_count": 20,
   "id": "ffe2a791",
   "metadata": {},
   "outputs": [
    {
     "name": "stdout",
     "output_type": "stream",
     "text": [
      "  1.209 ns (0 allocations: 0 bytes)\n",
      "  1.208 ns (0 allocations: 0 bytes)\n"
     ]
    },
    {
     "data": {
      "text/plain": [
       "500000500000"
      ]
     },
     "metadata": {},
     "output_type": "display_data"
    }
   ],
   "source": [
    "using BenchmarkTools\n",
    "\n",
    "function algo1(n)\n",
    "    return sum(1:n)\n",
    "end\n",
    "\n",
    "function algo2(n)\n",
    "    return n * (n + 1) ÷ 2\n",
    "end\n",
    "\n",
    "@btime algo1(10^6)\n",
    "@btime algo2(10^6)\n"
   ]
  },
  {
   "cell_type": "code",
   "execution_count": 21,
   "id": "af3411db",
   "metadata": {},
   "outputs": [
    {
     "ename": "UndefVarError",
     "evalue": "UndefVarError: `f` not defined in `Main`\nSuggestion: check for spelling errors or missing imports.",
     "output_type": "error",
     "traceback": [
      "UndefVarError: `f` not defined in `Main`\n",
      "Suggestion: check for spelling errors or missing imports.\n",
      "\n",
      "Stacktrace:\n",
      "  [1] var\"##core#246\"(n#245::Int64)\n",
      "    @ Main ~/.julia/packages/BenchmarkTools/1i1mY/src/execution.jl:598\n",
      "  [2] var\"##sample#247\"(::Tuple{Int64}, __params::BenchmarkTools.Parameters)\n",
      "    @ Main ~/.julia/packages/BenchmarkTools/1i1mY/src/execution.jl:607\n",
      "  [3] _lineartrial(b::BenchmarkTools.Benchmark, p::BenchmarkTools.Parameters; maxevals::Int64, kwargs::@Kwargs{})\n",
      "    @ BenchmarkTools ~/.julia/packages/BenchmarkTools/1i1mY/src/execution.jl:186\n",
      "  [4] _lineartrial(b::BenchmarkTools.Benchmark, p::BenchmarkTools.Parameters)\n",
      "    @ BenchmarkTools ~/.julia/packages/BenchmarkTools/1i1mY/src/execution.jl:181\n",
      "  [5] #invokelatest#2\n",
      "    @ ./essentials.jl:1055 [inlined]\n",
      "  [6] invokelatest\n",
      "    @ ./essentials.jl:1052 [inlined]\n",
      "  [7] #lineartrial#46\n",
      "    @ ~/.julia/packages/BenchmarkTools/1i1mY/src/execution.jl:51 [inlined]\n",
      "  [8] lineartrial\n",
      "    @ ~/.julia/packages/BenchmarkTools/1i1mY/src/execution.jl:50 [inlined]\n",
      "  [9] tune!(b::BenchmarkTools.Benchmark, p::BenchmarkTools.Parameters; progressid::Nothing, nleaves::Float64, ndone::Float64, verbose::Bool, pad::String, kwargs::@Kwargs{})\n",
      "    @ BenchmarkTools ~/.julia/packages/BenchmarkTools/1i1mY/src/execution.jl:299\n",
      " [10] tune! (repeats 2 times)\n",
      "    @ ~/.julia/packages/BenchmarkTools/1i1mY/src/execution.jl:288 [inlined]\n",
      " [11] macro expansion\n",
      "    @ ~/.julia/packages/BenchmarkTools/1i1mY/src/execution.jl:461 [inlined]\n",
      " [12] benchmark_scaling(f::Function, sizes::Vector{Int64})\n",
      "    @ Main ~/MA_best/jl_notebook_cell_df34fa98e69747e1a8f8a730347b8e2f_W5sZmlsZQ==.jl:6\n",
      " [13] top-level scope\n",
      "    @ ~/MA_best/jl_notebook_cell_df34fa98e69747e1a8f8a730347b8e2f_W5sZmlsZQ==.jl:13"
     ]
    }
   ],
   "source": [
    "using BenchmarkTools, Plots\n",
    "\n",
    "function benchmark_scaling(f, sizes)\n",
    "    times = Float64[]\n",
    "    for n in sizes\n",
    "        t = @belapsed f($n)   # high-precision elapsed time\n",
    "        push!(times, t)\n",
    "    end\n",
    "    return times\n",
    "end\n",
    "\n",
    "sizes = 10 .^ (2:6)\n",
    "times1 = benchmark_scaling(algo1, sizes)\n",
    "times2 = benchmark_scaling(algo2, sizes)\n",
    "\n",
    "plot(sizes, times1, label=\"algo1\", xscale=:log10, yscale=:log10, xlabel=\"Input size n\", ylabel=\"Time (s)\")\n",
    "plot!(sizes, times2, label=\"algo2\")\n"
   ]
  },
  {
   "cell_type": "code",
   "execution_count": 22,
   "id": "375516bb",
   "metadata": {},
   "outputs": [
    {
     "ename": "UndefVarError",
     "evalue": "UndefVarError: `Profile` not defined in `Main`\nSuggestion: check for spelling errors or missing imports.\nHint: Profile is loaded but not imported in the active module Main.",
     "output_type": "error",
     "traceback": [
      "UndefVarError: `Profile` not defined in `Main`\n",
      "Suggestion: check for spelling errors or missing imports.\n",
      "Hint: Profile is loaded but not imported in the active module Main.\n",
      "\n",
      "Stacktrace:\n",
      " [1] top-level scope\n",
      "   @ ~/MA_best/jl_notebook_cell_df34fa98e69747e1a8f8a730347b8e2f_W6sZmlsZQ==.jl:1"
     ]
    }
   ],
   "source": [
    "Profile.clear()\n",
    "@profile algo1(10^6)\n",
    "using ProfileView   # nice GUI flamegraphs\n",
    "ProfileView.view()\n"
   ]
  },
  {
   "cell_type": "code",
   "execution_count": 23,
   "id": "593cb485",
   "metadata": {},
   "outputs": [
    {
     "ename": "MethodError",
     "evalue": "MethodError: no method matching start_counters(::var\"#17#18\", ::Vector{String})\nThe function `start_counters` exists, but no method is defined for this combination of argument types.\n\nClosest candidates are:\n  start_counters(!Matched::Vector{Event})\n   @ PAPI ~/.julia/packages/PAPI/Tqipz/src/counters.jl:26\n  start_counters(!Matched::EventSet)\n   @ PAPI ~/.julia/packages/PAPI/Tqipz/src/counters.jl:11\n  start_counters(!Matched::Event...)\n   @ PAPI ~/.julia/packages/PAPI/Tqipz/src/counters.jl:27\n",
     "output_type": "error",
     "traceback": [
      "MethodError: no method matching start_counters(::var\"#17#18\", ::Vector{String})\n",
      "The function `start_counters` exists, but no method is defined for this combination of argument types.\n",
      "\n",
      "Closest candidates are:\n",
      "  start_counters(!Matched::Vector{Event})\n",
      "   @ PAPI ~/.julia/packages/PAPI/Tqipz/src/counters.jl:26\n",
      "  start_counters(!Matched::EventSet)\n",
      "   @ PAPI ~/.julia/packages/PAPI/Tqipz/src/counters.jl:11\n",
      "  start_counters(!Matched::Event...)\n",
      "   @ PAPI ~/.julia/packages/PAPI/Tqipz/src/counters.jl:27\n",
      "\n",
      "\n",
      "Stacktrace:\n",
      " [1] top-level scope\n",
      "   @ ~/MA_best/jl_notebook_cell_df34fa98e69747e1a8f8a730347b8e2f_X10sZmlsZQ==.jl:3"
     ]
    }
   ],
   "source": [
    "using PAPI\n",
    "\n",
    "PAPI.start_counters([\"PAPI_FP_OPS\"]) do\n",
    "    A = rand(1000,1000)\n",
    "    B = rand(1000,1000)\n",
    "    C = A * B\n",
    "end\n"
   ]
  },
  {
   "cell_type": "code",
   "execution_count": 24,
   "id": "579a3af9",
   "metadata": {},
   "outputs": [
    {
     "name": "stdout",
     "output_type": "stream",
     "text": [
      "Solution x = [0.09090909090909091, 0.6363636363636362]\n",
      "Residual norms = Dict{Symbol, Any}(:reltol => 1.4901161193847656e-8, :abstol => 0.0, :resnorm => [0.5423261445466404, 1.0092936587501423e-16])\n",
      "Exact solution x = [0.09090909090909091, 0.6363636363636364]\n"
     ]
    }
   ],
   "source": [
    "using IterativeSolvers\n",
    "using LinearAlgebra\n",
    "\n",
    "# Example system: A * x = b\n",
    "A = [4.0 1.0;\n",
    "     1.0 3.0]\n",
    "b = [1.0, 2.0]\n",
    "\n",
    "# Solve with GMRES\n",
    "x, history = gmres(A, b; log=true)\n",
    "\n",
    "println(\"Solution x = \", x)\n",
    "println(\"Residual norms = \", history.data)\n",
    "\n",
    "# exact solution\n",
    "x_exact = A \\ b\n",
    "println(\"Exact solution x = \", x_exact)"
   ]
  }
 ],
 "metadata": {
  "kernelspec": {
   "display_name": "Julia 1.11.4",
   "language": "julia",
   "name": "julia-1.11"
  },
  "language_info": {
   "file_extension": ".jl",
   "mimetype": "application/julia",
   "name": "julia",
   "version": "1.11.4"
  }
 },
 "nbformat": 4,
 "nbformat_minor": 5
}
