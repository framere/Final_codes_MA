{
 "cells": [
  {
   "cell_type": "code",
   "execution_count": 5,
   "id": "225c99f9",
   "metadata": {},
   "outputs": [],
   "source": [
    "import numpy as np\n",
    "import matplotlib.pyplot as plt\n",
    "import pandas as pd\n",
    "import seaborn as sns"
   ]
  },
  {
   "cell_type": "code",
   "execution_count": null,
   "id": "b003afcb",
   "metadata": {},
   "outputs": [
    {
     "name": "stdout",
     "output_type": "stream",
     "text": [
      "Saved histogram for Sparse_matrix_1\n"
     ]
    }
   ],
   "source": [
    "numbers = {}\n",
    "folder = \"Figures\"\n",
    "\n",
    "for i in range(1, 15):\n",
    "    df = pd.read_csv(f\"diagonal_analysis_detailed_{i}.txt\", sep=r\"\\s+\", header=None, engine=\"c\")\n",
    "    indices = df.index\n",
    "    sampled_indices = indices[::1000]\n",
    "    sampled_values = df.iloc[sampled_indices, 0]  # take only the first column\n",
    "\n",
    "    # Remove non-finite or non-positive entries\n",
    "    sampled_values = sampled_values[np.isfinite(sampled_values)]\n",
    "    sampled_values = sampled_values[sampled_values > 0]\n",
    "\n",
    "    if len(sampled_values) == 0:\n",
    "        print(f\"Skipping {i}: no valid positive values.\")\n",
    "        continue\n",
    "\n",
    "    vmin, vmax = sampled_values.min(), sampled_values.max()\n",
    "    if vmin <= 0 or vmax <= 0:\n",
    "        print(f\"Skipping {i}: contains non-positive values (vmin={vmin}, vmax={vmax})\")\n",
    "        continue\n",
    "\n",
    "    # Define logarithmic bins safely\n",
    "    n_bins = int(np.log10(vmax / vmin) * 20)  # ~20 bins per decade, adjustable\n",
    "    n_bins = max(n_bins, 10)  # ensure at least 10 bins\n",
    "\n",
    "    bins = np.logspace(np.log10(vmin), np.log10(vmax), num=n_bins)\n",
    "\n",
    "    plt.figure(figsize=(8, 6))\n",
    "    sns.histplot(sampled_values, bins=bins, color='blue')\n",
    "    plt.xscale('log')\n",
    "    plt.xlabel(r\"$a_{ii}$ / $a_{ij}$\")\n",
    "    plt.ylabel(\"Frequency\")\n",
    "    plt.grid(True, which=\"both\", ls=\"--\", alpha=0.6)\n",
    "    plt.title(f\"Histogram of Diagonal Dominance Analysis (Sparse_matrix_{i})\")\n",
    "    sns.despine()\n",
    "    plt.tight_layout()\n",
    "    plt.savefig(f\"{folder}/histo_diag_dom_{i}_sampled.pdf\")\n",
    "    plt.close()\n",
    "\n",
    "    print(f\"Saved histogram for Sparse_matrix_{i}\")"
   ]
  }
 ],
 "metadata": {
  "kernelspec": {
   "display_name": "base",
   "language": "python",
   "name": "python3"
  },
  "language_info": {
   "codemirror_mode": {
    "name": "ipython",
    "version": 3
   },
   "file_extension": ".py",
   "mimetype": "text/x-python",
   "name": "python",
   "nbconvert_exporter": "python",
   "pygments_lexer": "ipython3",
   "version": "3.12.2"
  }
 },
 "nbformat": 4,
 "nbformat_minor": 5
}
