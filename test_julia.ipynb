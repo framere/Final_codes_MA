{
 "cells": [
  {
   "cell_type": "code",
   "execution_count": 10,
   "id": "91e60827",
   "metadata": {},
   "outputs": [
    {
     "name": "stdout",
     "output_type": "stream",
     "text": [
      "Vector 1: MINRES iterations = 10\n",
      "Vector 2: MINRES iterations = 12\n",
      "Solution matrix S =\n",
      "[-0.9613579329309714 3.571707756537952; 0.700396557830945 -7.115493273068982; 0.522970216480914 -15.539018964339231; -1.0413618003208778 -0.5227140086030193; 0.004765061342248744 -11.242580273794966; 0.05505890406555064 1.0095838334364484; -0.04855446220646281 -10.195568937413569; -0.9357192225309595 6.675951483553281; -0.25722811883293417 4.805366216815828; -0.7255362463195205 9.203927904504875]\n"
     ]
    }
   ],
   "source": [
    "using LinearMaps, IterativeSolvers, LinearAlgebra\n",
    "\n",
    "# Dummy FLOP counters\n",
    "global NFLOPs = 0\n",
    "count_matmul_flops(args...) = nothing\n",
    "count_vec_add_flops(args...) = nothing\n",
    "count_vec_scaling_flops(args...) = nothing\n",
    "\n",
    "# Your correction_equations_minres function here\n",
    "function correction_equations_minres(A, U, lambdas, R; tol=1e-1, maxiter=100)\n",
    "    global NFLOPs\n",
    "    n, k = size(U)\n",
    "    S = zeros(eltype(A), n, k)\n",
    "\n",
    "    for j in 1:k\n",
    "        λ, r = lambdas[j], R[:, j]\n",
    "\n",
    "        M_apply = function(x)\n",
    "            x_perp = x - (U * (U' * x)); \n",
    "            tmp = (A * x_perp) - λ * x_perp; \n",
    "            res = tmp - (U * (U' * tmp)); \n",
    "            return res\n",
    "        end\n",
    "\n",
    "        M_op = LinearMap{eltype(A)}(M_apply, n, n; ishermitian=true)\n",
    "\n",
    "        rhs = r - (U * (U' * r)); \n",
    "        rhs = -rhs\n",
    "\n",
    "        # Call MINRES with logging\n",
    "        s_j, history = minres(M_op, rhs; reltol=tol, maxiter=maxiter, log=true)\n",
    "\n",
    "        println(\"Vector $j: MINRES iterations = \", history.iters)\n",
    "\n",
    "        s_j = s_j - (U * (U' * s_j)); \n",
    "        S[:, j] = s_j\n",
    "    end\n",
    "    return S\n",
    "end\n",
    "\n",
    "# === Example Problem ===\n",
    "n = 10\n",
    "A = Symmetric(randn(n, n))  # symmetric matrix\n",
    "U = randn(n, 2)             # trial subspace\n",
    "lambdas = [1.0, 2.0]        # fake Ritz values\n",
    "R = randn(n, 2)             # fake residuals\n",
    "\n",
    "S = correction_equations_minres(A, U, lambdas, R; tol=1e-6, maxiter=50)\n",
    "println(\"Solution matrix S =\")\n",
    "println(S)\n"
   ]
  },
  {
   "cell_type": "code",
   "execution_count": 2,
   "id": "ffe2a791",
   "metadata": {},
   "outputs": [
    {
     "name": "stdout",
     "output_type": "stream",
     "text": [
      "  1.209 ns (0 allocations: 0 bytes)\n",
      "  1.208 ns (0 allocations: 0 bytes)\n"
     ]
    },
    {
     "data": {
      "text/plain": [
       "500000500000"
      ]
     },
     "metadata": {},
     "output_type": "display_data"
    }
   ],
   "source": [
    "using BenchmarkTools\n",
    "\n",
    "function algo1(n)\n",
    "    return sum(1:n)\n",
    "end\n",
    "\n",
    "function algo2(n)\n",
    "    return n * (n + 1) ÷ 2\n",
    "end\n",
    "\n",
    "@btime algo1(10^6)\n",
    "@btime algo2(10^6)\n"
   ]
  },
  {
   "cell_type": "code",
   "execution_count": 3,
   "id": "af3411db",
   "metadata": {},
   "outputs": [
    {
     "ename": "UndefVarError",
     "evalue": "UndefVarError: `f` not defined in `Main`\nSuggestion: check for spelling errors or missing imports.",
     "output_type": "error",
     "traceback": [
      "UndefVarError: `f` not defined in `Main`\n",
      "Suggestion: check for spelling errors or missing imports.\n",
      "\n",
      "Stacktrace:\n",
      "  [1] var\"##core#246\"(n#245::Int64)\n",
      "    @ Main ~/.julia/packages/BenchmarkTools/1i1mY/src/execution.jl:598\n",
      "  [2] var\"##sample#247\"(::Tuple{Int64}, __params::BenchmarkTools.Parameters)\n",
      "    @ Main ~/.julia/packages/BenchmarkTools/1i1mY/src/execution.jl:607\n",
      "  [3] _lineartrial(b::BenchmarkTools.Benchmark, p::BenchmarkTools.Parameters; maxevals::Int64, kwargs::@Kwargs{})\n",
      "    @ BenchmarkTools ~/.julia/packages/BenchmarkTools/1i1mY/src/execution.jl:186\n",
      "  [4] _lineartrial(b::BenchmarkTools.Benchmark, p::BenchmarkTools.Parameters)\n",
      "    @ BenchmarkTools ~/.julia/packages/BenchmarkTools/1i1mY/src/execution.jl:181\n",
      "  [5] #invokelatest#2\n",
      "    @ ./essentials.jl:1055 [inlined]\n",
      "  [6] invokelatest\n",
      "    @ ./essentials.jl:1052 [inlined]\n",
      "  [7] #lineartrial#46\n",
      "    @ ~/.julia/packages/BenchmarkTools/1i1mY/src/execution.jl:51 [inlined]\n",
      "  [8] lineartrial\n",
      "    @ ~/.julia/packages/BenchmarkTools/1i1mY/src/execution.jl:50 [inlined]\n",
      "  [9] tune!(b::BenchmarkTools.Benchmark, p::BenchmarkTools.Parameters; progressid::Nothing, nleaves::Float64, ndone::Float64, verbose::Bool, pad::String, kwargs::@Kwargs{})\n",
      "    @ BenchmarkTools ~/.julia/packages/BenchmarkTools/1i1mY/src/execution.jl:299\n",
      " [10] tune! (repeats 2 times)\n",
      "    @ ~/.julia/packages/BenchmarkTools/1i1mY/src/execution.jl:288 [inlined]\n",
      " [11] macro expansion\n",
      "    @ ~/.julia/packages/BenchmarkTools/1i1mY/src/execution.jl:461 [inlined]\n",
      " [12] benchmark_scaling(f::Function, sizes::Vector{Int64})\n",
      "    @ Main ~/MA_best/jl_notebook_cell_df34fa98e69747e1a8f8a730347b8e2f_W1sZmlsZQ==.jl:6\n",
      " [13] top-level scope\n",
      "    @ ~/MA_best/jl_notebook_cell_df34fa98e69747e1a8f8a730347b8e2f_W1sZmlsZQ==.jl:13"
     ]
    }
   ],
   "source": [
    "using BenchmarkTools, Plots\n",
    "\n",
    "function benchmark_scaling(f, sizes)\n",
    "    times = Float64[]\n",
    "    for n in sizes\n",
    "        t = @belapsed f($n)   # high-precision elapsed time\n",
    "        push!(times, t)\n",
    "    end\n",
    "    return times\n",
    "end\n",
    "\n",
    "sizes = 10 .^ (2:6)\n",
    "times1 = benchmark_scaling(algo1, sizes)\n",
    "times2 = benchmark_scaling(algo2, sizes)\n",
    "\n",
    "plot(sizes, times1, label=\"algo1\", xscale=:log10, yscale=:log10, xlabel=\"Input size n\", ylabel=\"Time (s)\")\n",
    "plot!(sizes, times2, label=\"algo2\")\n"
   ]
  },
  {
   "cell_type": "code",
   "execution_count": 4,
   "id": "375516bb",
   "metadata": {},
   "outputs": [
    {
     "ename": "UndefVarError",
     "evalue": "UndefVarError: `Profile` not defined in `Main`\nSuggestion: check for spelling errors or missing imports.\nHint: Profile is loaded but not imported in the active module Main.",
     "output_type": "error",
     "traceback": [
      "UndefVarError: `Profile` not defined in `Main`\n",
      "Suggestion: check for spelling errors or missing imports.\n",
      "Hint: Profile is loaded but not imported in the active module Main.\n",
      "\n",
      "Stacktrace:\n",
      " [1] top-level scope\n",
      "   @ ~/MA_best/jl_notebook_cell_df34fa98e69747e1a8f8a730347b8e2f_W2sZmlsZQ==.jl:1"
     ]
    }
   ],
   "source": [
    "Profile.clear()\n",
    "@profile algo1(10^6)\n",
    "using ProfileView   # nice GUI flamegraphs\n",
    "ProfileView.view()\n"
   ]
  },
  {
   "cell_type": "code",
   "execution_count": 5,
   "id": "593cb485",
   "metadata": {},
   "outputs": [
    {
     "ename": "InitError",
     "evalue": "InitError: PAPI.PAPIError(\"Invalid argument\")\nduring initialization of module PAPI",
     "output_type": "error",
     "traceback": [
      "InitError: PAPI.PAPIError(\"Invalid argument\")\n",
      "during initialization of module PAPI\n",
      "\n",
      "Stacktrace:\n",
      "  [1] __init__()\n",
      "    @ PAPI ~/.julia/packages/PAPI/Tqipz/src/PAPI.jl:39\n",
      "  [2] run_module_init(mod::Module, i::Int64)\n",
      "    @ Base ./loading.jl:1378\n",
      "  [3] register_restored_modules(sv::Core.SimpleVector, pkg::Base.PkgId, path::String)\n",
      "    @ Base ./loading.jl:1366\n",
      "  [4] _include_from_serialized(pkg::Base.PkgId, path::String, ocachepath::String, depmods::Vector{Any}, ignore_native::Nothing; register::Bool)\n",
      "    @ Base ./loading.jl:1254\n",
      "  [5] _include_from_serialized (repeats 2 times)\n",
      "    @ ./loading.jl:1210 [inlined]\n",
      "  [6] _require_search_from_serialized(pkg::Base.PkgId, sourcepath::String, build_id::UInt128, stalecheck::Bool; reasons::Dict{String, Int64}, DEPOT_PATH::Vector{String})\n",
      "    @ Base ./loading.jl:2057\n",
      "  [7] _require(pkg::Base.PkgId, env::String)\n",
      "    @ Base ./loading.jl:2527\n",
      "  [8] __require_prelocked(uuidkey::Base.PkgId, env::String)\n",
      "    @ Base ./loading.jl:2388\n",
      "  [9] #invoke_in_world#3\n",
      "    @ ./essentials.jl:1089 [inlined]\n",
      " [10] invoke_in_world\n",
      "    @ ./essentials.jl:1086 [inlined]\n",
      " [11] _require_prelocked(uuidkey::Base.PkgId, env::String)\n",
      "    @ Base ./loading.jl:2375\n",
      " [12] macro expansion\n",
      "    @ ./loading.jl:2314 [inlined]\n",
      " [13] macro expansion\n",
      "    @ ./lock.jl:273 [inlined]\n",
      " [14] __require(into::Module, mod::Symbol)\n",
      "    @ Base ./loading.jl:2271\n",
      " [15] #invoke_in_world#3\n",
      "    @ ./essentials.jl:1089 [inlined]\n",
      " [16] invoke_in_world\n",
      "    @ ./essentials.jl:1086 [inlined]\n",
      " [17] require(into::Module, mod::Symbol)\n",
      "    @ Base ./loading.jl:2260\n",
      " [18] eval\n",
      "    @ ./boot.jl:430 [inlined]\n",
      " [19] include_string(mapexpr::typeof(REPL.softscope), mod::Module, code::String, filename::String)\n",
      "    @ Base ./loading.jl:2734\n",
      " [20] #invokelatest#2\n",
      "    @ ./essentials.jl:1055 [inlined]\n",
      " [21] invokelatest\n",
      "    @ ./essentials.jl:1052 [inlined]\n",
      " [22] (::VSCodeServer.var\"#217#218\"{VSCodeServer.NotebookRunCellArguments, String})()\n",
      "    @ VSCodeServer ~/.vscode/extensions/julialang.language-julia-1.149.2/scripts/packages/VSCodeServer/src/serve_notebook.jl:24\n",
      " [23] withpath(f::VSCodeServer.var\"#217#218\"{VSCodeServer.NotebookRunCellArguments, String}, path::String)\n",
      "    @ VSCodeServer ~/.vscode/extensions/julialang.language-julia-1.149.2/scripts/packages/VSCodeServer/src/repl.jl:276\n",
      " [24] notebook_runcell_request(conn::VSCodeServer.JSONRPC.JSONRPCEndpoint{Base.PipeEndpoint, Base.PipeEndpoint, VSCodeServer.JSON.Serializations.StandardSerialization}, params::VSCodeServer.NotebookRunCellArguments, token::VSCodeServer.CancellationTokens.CancellationToken)\n",
      "    @ VSCodeServer ~/.vscode/extensions/julialang.language-julia-1.149.2/scripts/packages/VSCodeServer/src/serve_notebook.jl:13\n",
      " [25] dispatch_msg(x::VSCodeServer.JSONRPC.JSONRPCEndpoint{Base.PipeEndpoint, Base.PipeEndpoint, VSCodeServer.JSON.Serializations.StandardSerialization}, dispatcher::VSCodeServer.JSONRPC.MsgDispatcher, msg::VSCodeServer.JSONRPC.Request)\n",
      "    @ VSCodeServer.JSONRPC ~/.vscode/extensions/julialang.language-julia-1.149.2/scripts/packages/JSONRPC/src/typed.jl:68\n",
      " [26] serve_notebook(pipename::String, debugger_pipename::String, outputchannel_logger::Base.CoreLogging.SimpleLogger; error_handler::var\"#5#10\"{String})\n",
      "    @ VSCodeServer ~/.vscode/extensions/julialang.language-julia-1.149.2/scripts/packages/VSCodeServer/src/serve_notebook.jl:147\n",
      " [27] top-level scope\n",
      "    @ ~/.vscode/extensions/julialang.language-julia-1.149.2/scripts/notebook/notebook.jl:35"
     ]
    }
   ],
   "source": [
    "using PAPI\n",
    "\n",
    "PAPI.start_counters([\"PAPI_FP_OPS\"]) do\n",
    "    A = rand(1000,1000)\n",
    "    B = rand(1000,1000)\n",
    "    C = A * B\n",
    "end\n"
   ]
  },
  {
   "cell_type": "code",
   "execution_count": 6,
   "id": "579a3af9",
   "metadata": {},
   "outputs": [
    {
     "name": "stdout",
     "output_type": "stream",
     "text": [
      "Solution x = [0.09090909090909091, 0.6363636363636362]\n",
      "Residual norms = Dict{Symbol, Any}(:reltol => 1.4901161193847656e-8, :abstol => 0.0, :resnorm => [0.5423261445466404, 1.0092936587501423e-16])\n",
      "Exact solution x = [0.09090909090909091, 0.6363636363636364]\n"
     ]
    }
   ],
   "source": [
    "using IterativeSolvers\n",
    "using LinearAlgebra\n",
    "\n",
    "# Example system: A * x = b\n",
    "A = [4.0 1.0;\n",
    "     1.0 3.0]\n",
    "b = [1.0, 2.0]\n",
    "\n",
    "# Solve with GMRES\n",
    "x, history = gmres(A, b; log=true)\n",
    "\n",
    "println(\"Solution x = \", x)\n",
    "println(\"Residual norms = \", history.data)\n",
    "\n",
    "# exact solution\n",
    "x_exact = A \\ b\n",
    "println(\"Exact solution x = \", x_exact)"
   ]
  }
 ],
 "metadata": {
  "kernelspec": {
   "display_name": "Julia 1.11.4",
   "language": "julia",
   "name": "julia-1.11"
  },
  "language_info": {
   "file_extension": ".jl",
   "mimetype": "application/julia",
   "name": "julia",
   "version": "1.11.4"
  }
 },
 "nbformat": 4,
 "nbformat_minor": 5
}
