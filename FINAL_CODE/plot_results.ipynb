{
 "cells": [
  {
   "cell_type": "code",
   "execution_count": 1,
   "id": "0dfd6d9d",
   "metadata": {},
   "outputs": [],
   "source": [
    "import numpy as np\n",
    "import matplotlib.pyplot as plt\n",
    "import seaborn as sns"
   ]
  },
  {
   "cell_type": "code",
   "execution_count": null,
   "id": "73b3e105",
   "metadata": {},
   "outputs": [],
   "source": [
    "N = np.array([10, 50, 100, 200]) *6\n",
    "\n",
    "FLOPS_25 = np.array([1.0e+08, 1.0e+09, 1.0e+10, 1.0e+11])\n",
    "FLOPS_40 = np.array([1.0e+08, 1.0e+09, 1.0e+10, 1.0e+11])\n"
   ]
  }
 ],
 "metadata": {
  "kernelspec": {
   "display_name": "base",
   "language": "python",
   "name": "python3"
  },
  "language_info": {
   "codemirror_mode": {
    "name": "ipython",
    "version": 3
   },
   "file_extension": ".py",
   "mimetype": "text/x-python",
   "name": "python",
   "nbconvert_exporter": "python",
   "pygments_lexer": "ipython3",
   "version": "3.11.7"
  }
 },
 "nbformat": 4,
 "nbformat_minor": 5
}
