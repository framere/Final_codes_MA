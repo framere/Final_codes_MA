{
 "cells": [
  {
   "cell_type": "code",
   "execution_count": 9,
   "id": "97816092",
   "metadata": {},
   "outputs": [
    {
     "data": {
      "text/plain": [
       "5.0"
      ]
     },
     "metadata": {},
     "output_type": "display_data"
    }
   ],
   "source": [
    "18000/60/60\n",
    "\n"
   ]
  },
  {
   "cell_type": "code",
   "execution_count": 6,
   "id": "263e1ef9",
   "metadata": {},
   "outputs": [
    {
     "name": "stdout",
     "output_type": "stream",
     "text": [
      "Reading eigenvalues from test/Eigenvalues_folder/eigenresults_matrix_1.jld2\n",
      "Reading eigenvalues from test/Eigenvalues_folder/eigenresults_matrix_2.jld2\n",
      "Reading eigenvalues from test/Eigenvalues_folder/eigenresults_matrix_3.jld2\n",
      "Reading eigenvalues from test/Eigenvalues_folder/eigenresults_matrix_4.jld2\n",
      "Reading eigenvalues from test/Eigenvalues_folder/eigenresults_matrix_5.jld2\n",
      "Reading eigenvalues from test/Eigenvalues_folder/eigenresults_matrix_6.jld2\n",
      "First 20 eigenvalues of matrix 1: [-23.978377110229157, -19.657075544253022, -17.094688632871684, -15.293640659853793, -13.920120748628545, -12.820159581337812, -11.909846834111327, -11.138381170404044, -10.472712459877043, -9.890125928428331, -9.374396607931594, -8.91347271912299, -8.49825870747107, -8.121661770435725, -7.778045105263762, -7.462941986363561, -7.172618370252416, -6.904094822831796, -6.654794434123425, -6.42259819539194]\n",
      "First 20 eigenvalues of matrix 2: [-23.978455365167758, -19.657172709731952, -17.094807897576505, -15.293781111470947, -13.920285321209098, -12.820342628737409, -11.910045826720303, -11.138602208976899, -10.472966911497748, -9.8904079841977, -9.374685462823754, -8.913821894898483, -8.498642773285086, -8.122080934213049, -7.77853885172297, -7.463463417118227, -7.17321813230819, -6.904774298097257, -6.655567971502983, -6.423471213408534]\n",
      "First 20 eigenvalues of matrix 3: [-25.1500986945843, -23.929747218322362, -19.651148224978552, -17.093122362161406, -15.293990470692163, -13.921845067077296, -12.823064450120086, -11.913712774962526, -11.14304928624946, -10.478268308837276, -9.896392299314579, -9.381460510014616, -8.921097837960106, -8.506681641101855, -8.130652843864233, -7.787720195219586, -7.473028058170837, -7.183597973986232, -6.915589545442984, -6.666777903773204]\n",
      "First 20 eigenvalues of matrix 4: [-50.02945596458634, -23.982183549302107, -19.663486716292226, -17.103017406114763, -15.303521907001583, -13.931635301283038, -12.832904858585605, -11.923882176783003, -11.153694925730516, -10.489325591055538, -9.907994149571685, -9.39343952758839, -8.93348169540891, -8.519581008241785, -8.144013796086298, -7.801714371986031, -7.487794311324087, -7.198692280429992, -6.93144005572856, -6.683303876000866]\n",
      "First 20 eigenvalues of matrix 5: [-250.08453033371632, -24.388999196573067, -20.15868343743333, -17.67227440827728, -15.953012679667452, -14.646047943797377, -13.608075527145349, -12.760504960136142, -12.06750111483285, -11.443085687683713, -10.921615552292298, -10.473156841916673, -10.080713204057773, -9.717031541425264, -9.387964974975304, -9.089728863758488, -8.842129647024752, -8.63488482198182, -8.391138821954964, -8.180621927172961]\n",
      "First 20 eigenvalues of matrix 6: [-500.1020535187053, -24.82667188220076, -20.69391311461069, -18.294058131221984, -16.60890669497975, -15.396991557395765, -14.418937015938539, -13.64446077911758, -12.99361170872082, -12.433980462669357, -11.972897226147634, -11.577974202320757, -11.199290583346293, -10.889349031852014, -10.661907148062348, -10.410588167122167, -10.235892578875724, -10.070078190834781, -9.956401852496896, -9.7399485729999]\n"
     ]
    }
   ],
   "source": [
    "using LinearMaps, IterativeSolvers, LinearAlgebra, JLD2\n",
    "\n",
    "function read_eigenresults(number::Int)\n",
    "    output_file = \"test/Eigenvalues_folder/eigenresults_matrix_$(number).jld2\"\n",
    "    println(\"Reading eigenvalues from $output_file\")\n",
    "    data = jldopen(output_file, \"r\")\n",
    "    eigenvalues = -data[\"Σexact\"]\n",
    "    close(data)\n",
    "    return sort(eigenvalues)\n",
    "end\n",
    "\n",
    "eigenvalues_1 = read_eigenresults(1)\n",
    "eigenvalues_2 = read_eigenresults(2)\n",
    "eigenvalues_3 = read_eigenresults(3)\n",
    "eigenvalues_4 = read_eigenresults(4)\n",
    "eigenvalues_5 = read_eigenresults(5)\n",
    "eigenvalues_6 = read_eigenresults(6)\n",
    "\n",
    "# read first 20 eigenvalues\n",
    "for i in 1:6\n",
    "    println(\"First 20 eigenvalues of matrix $i: \", eval(Symbol(\"eigenvalues_$i\"))[1:20])\n",
    "end\n"
   ]
  },
  {
   "cell_type": "code",
   "execution_count": 7,
   "id": "c91b112f",
   "metadata": {},
   "outputs": [
    {
     "ename": "ArgumentError",
     "evalue": "ArgumentError: Package IncompleteCholesky not found in current path.\n- Run `import Pkg; Pkg.add(\"IncompleteCholesky\")` to install the IncompleteCholesky package.",
     "output_type": "error",
     "traceback": [
      "ArgumentError: Package IncompleteCholesky not found in current path.\n",
      "- Run `import Pkg; Pkg.add(\"IncompleteCholesky\")` to install the IncompleteCholesky package.\n",
      "\n",
      "Stacktrace:\n",
      "  [1] macro expansion\n",
      "    @ ./loading.jl:2296 [inlined]\n",
      "  [2] macro expansion\n",
      "    @ ./lock.jl:273 [inlined]\n",
      "  [3] __require(into::Module, mod::Symbol)\n",
      "    @ Base ./loading.jl:2271\n",
      "  [4] #invoke_in_world#3\n",
      "    @ ./essentials.jl:1089 [inlined]\n",
      "  [5] invoke_in_world\n",
      "    @ ./essentials.jl:1086 [inlined]\n",
      "  [6] require(into::Module, mod::Symbol)\n",
      "    @ Base ./loading.jl:2260\n",
      "  [7] eval\n",
      "    @ ./boot.jl:430 [inlined]\n",
      "  [8] include_string(mapexpr::typeof(REPL.softscope), mod::Module, code::String, filename::String)\n",
      "    @ Base ./loading.jl:2734\n",
      "  [9] #invokelatest#2\n",
      "    @ ./essentials.jl:1055 [inlined]\n",
      " [10] invokelatest\n",
      "    @ ./essentials.jl:1052 [inlined]\n",
      " [11] (::VSCodeServer.var\"#217#218\"{VSCodeServer.NotebookRunCellArguments, String})()\n",
      "    @ VSCodeServer ~/.vscode/extensions/julialang.language-julia-1.149.2/scripts/packages/VSCodeServer/src/serve_notebook.jl:24\n",
      " [12] withpath(f::VSCodeServer.var\"#217#218\"{VSCodeServer.NotebookRunCellArguments, String}, path::String)\n",
      "    @ VSCodeServer ~/.vscode/extensions/julialang.language-julia-1.149.2/scripts/packages/VSCodeServer/src/repl.jl:276\n",
      " [13] notebook_runcell_request(conn::VSCodeServer.JSONRPC.JSONRPCEndpoint{Base.PipeEndpoint, Base.PipeEndpoint, VSCodeServer.JSON.Serializations.StandardSerialization}, params::VSCodeServer.NotebookRunCellArguments, token::VSCodeServer.CancellationTokens.CancellationToken)\n",
      "    @ VSCodeServer ~/.vscode/extensions/julialang.language-julia-1.149.2/scripts/packages/VSCodeServer/src/serve_notebook.jl:13\n",
      " [14] dispatch_msg(x::VSCodeServer.JSONRPC.JSONRPCEndpoint{Base.PipeEndpoint, Base.PipeEndpoint, VSCodeServer.JSON.Serializations.StandardSerialization}, dispatcher::VSCodeServer.JSONRPC.MsgDispatcher, msg::VSCodeServer.JSONRPC.Request)\n",
      "    @ VSCodeServer.JSONRPC ~/.vscode/extensions/julialang.language-julia-1.149.2/scripts/packages/JSONRPC/src/typed.jl:68\n",
      " [15] serve_notebook(pipename::String, debugger_pipename::String, outputchannel_logger::Base.CoreLogging.SimpleLogger; error_handler::var\"#5#10\"{String})\n",
      "    @ VSCodeServer ~/.vscode/extensions/julialang.language-julia-1.149.2/scripts/packages/VSCodeServer/src/serve_notebook.jl:147\n",
      " [16] top-level scope\n",
      "    @ ~/.vscode/extensions/julialang.language-julia-1.149.2/scripts/notebook/notebook.jl:35"
     ]
    }
   ],
   "source": [
    "using IncompleteCholesky"
   ]
  },
  {
   "cell_type": "code",
   "execution_count": null,
   "id": "91e60827",
   "metadata": {},
   "outputs": [],
   "source": [
    "using LinearMaps, IterativeSolvers, LinearAlgebra\n",
    "\n",
    "# Dummy FLOP counters\n",
    "global NFLOPs = 0\n",
    "count_matmul_flops(args...) = nothing\n",
    "count_vec_add_flops(args...) = nothing\n",
    "count_vec_scaling_flops(args...) = nothing\n",
    "\n",
    "# Your correction_equations_minres function here\n",
    "function correction_equations_minres(A, U, lambdas, R; tol=1e-1, maxiter=100)\n",
    "    global NFLOPs\n",
    "    n, k = size(U)\n",
    "    S = zeros(eltype(A), n, k)\n",
    "\n",
    "    for j in 1:k\n",
    "        λ, r = lambdas[j], R[:, j]\n",
    "\n",
    "        M_apply = function(x)\n",
    "            x_perp = x - (U * (U' * x)); \n",
    "            tmp = (A * x_perp) - λ * x_perp; \n",
    "            res = tmp - (U * (U' * tmp)); \n",
    "            return res\n",
    "        end\n",
    "\n",
    "        M_op = LinearMap{eltype(A)}(M_apply, n, n; ishermitian=true)\n",
    "\n",
    "        rhs = r - (U * (U' * r)); \n",
    "        rhs = -rhs\n",
    "\n",
    "        # Call MINRES with logging\n",
    "        s_j, history = minres(M_op, rhs; reltol=tol, maxiter=maxiter, log=true)\n",
    "\n",
    "        println(\"Vector $j: MINRES iterations = \", history.iters)\n",
    "\n",
    "        s_j = s_j - (U * (U' * s_j)); \n",
    "        S[:, j] = s_j\n",
    "    end\n",
    "    return S\n",
    "end\n",
    "\n",
    "# === Example Problem ===\n",
    "n = 10\n",
    "A = Symmetric(randn(n, n))  # symmetric matrix\n",
    "U = randn(n, 2)             # trial subspace\n",
    "lambdas = [1.0, 2.0]        # fake Ritz values\n",
    "R = randn(n, 2)             # fake residuals\n",
    "\n",
    "S = correction_equations_minres(A, U, lambdas, R; tol=1e-6, maxiter=50)\n",
    "println(\"Solution matrix S =\")\n",
    "println(S)\n"
   ]
  },
  {
   "cell_type": "code",
   "execution_count": null,
   "id": "ffe2a791",
   "metadata": {},
   "outputs": [],
   "source": [
    "using BenchmarkTools\n",
    "\n",
    "function algo1(n)\n",
    "    return sum(1:n)\n",
    "end\n",
    "\n",
    "function algo2(n)\n",
    "    return n * (n + 1) ÷ 2\n",
    "end\n",
    "\n",
    "@btime algo1(10^6)\n",
    "@btime algo2(10^6)\n"
   ]
  },
  {
   "cell_type": "code",
   "execution_count": null,
   "id": "af3411db",
   "metadata": {},
   "outputs": [],
   "source": [
    "using BenchmarkTools, Plots\n",
    "\n",
    "function benchmark_scaling(f, sizes)\n",
    "    times = Float64[]\n",
    "    for n in sizes\n",
    "        t = @belapsed f($n)   # high-precision elapsed time\n",
    "        push!(times, t)\n",
    "    end\n",
    "    return times\n",
    "end\n",
    "\n",
    "sizes = 10 .^ (2:6)\n",
    "times1 = benchmark_scaling(algo1, sizes)\n",
    "times2 = benchmark_scaling(algo2, sizes)\n",
    "\n",
    "plot(sizes, times1, label=\"algo1\", xscale=:log10, yscale=:log10, xlabel=\"Input size n\", ylabel=\"Time (s)\")\n",
    "plot!(sizes, times2, label=\"algo2\")\n"
   ]
  },
  {
   "cell_type": "code",
   "execution_count": null,
   "id": "375516bb",
   "metadata": {},
   "outputs": [],
   "source": [
    "Profile.clear()\n",
    "@profile algo1(10^6)\n",
    "using ProfileView   # nice GUI flamegraphs\n",
    "ProfileView.view()\n"
   ]
  },
  {
   "cell_type": "code",
   "execution_count": null,
   "id": "593cb485",
   "metadata": {},
   "outputs": [],
   "source": [
    "using PAPI\n",
    "\n",
    "PAPI.start_counters([\"PAPI_FP_OPS\"]) do\n",
    "    A = rand(1000,1000)\n",
    "    B = rand(1000,1000)\n",
    "    C = A * B\n",
    "end\n"
   ]
  },
  {
   "cell_type": "code",
   "execution_count": null,
   "id": "579a3af9",
   "metadata": {},
   "outputs": [],
   "source": [
    "using IterativeSolvers\n",
    "using LinearAlgebra\n",
    "\n",
    "# Example system: A * x = b\n",
    "A = [4.0 1.0;\n",
    "     1.0 3.0]\n",
    "b = [1.0, 2.0]\n",
    "\n",
    "# Solve with GMRES\n",
    "x, history = gmres(A, b; log=true)\n",
    "\n",
    "println(\"Solution x = \", x)\n",
    "println(\"Residual norms = \", history.data)\n",
    "\n",
    "# exact solution\n",
    "x_exact = A \\ b\n",
    "println(\"Exact solution x = \", x_exact)"
   ]
  }
 ],
 "metadata": {
  "kernelspec": {
   "display_name": "Julia 1.11.4",
   "language": "julia",
   "name": "julia-1.11"
  },
  "language_info": {
   "file_extension": ".jl",
   "mimetype": "application/julia",
   "name": "julia",
   "version": "1.11.4"
  }
 },
 "nbformat": 4,
 "nbformat_minor": 5
}
